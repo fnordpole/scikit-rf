{
 "cells": [
  {
   "cell_type": "markdown",
   "metadata": {},
   "source": [
    "# Ex5: Weighting\n",
    "This example demonstrates how weighting can be used to balance the fit accuracy between large and small magnitudes of the response.\n",
    "\n",
    "Because the vector fitting algorithm uses a least squares fit, large values in the responses contribute more to the least squares error than small values, thus giving them by default more weight.\n",
    "\n",
    "But sometimes we are interested to accurately fit very small magnitudes of a response very accurately, for example when analyzing the cross-talk or isolation between certain ports of a network.\n",
    "\n",
    "In this case, we can weight every sample by multiplying it with its inverse magnitude in the least squares fit and so we will get the same relative accuracy for large and small values. "
   ]
  },
  {
   "cell_type": "code",
   "execution_count": null,
   "metadata": {},
   "outputs": [],
   "source": [
    "import matplotlib.pyplot as mplt\n",
    "import numpy as np\n",
    "\n",
    "import skrf\n",
    "\n",
    "nw = skrf.network.Network('./190ghz_tx_measured.S2P')\n",
    "vf = skrf.VectorFitting(nw)\n",
    "vf.auto_fit(verbose=True)"
   ]
  },
  {
   "cell_type": "markdown",
   "metadata": {},
   "source": [
    "We can then plot the fitted responsse"
   ]
  },
  {
   "cell_type": "code",
   "execution_count": null,
   "metadata": {},
   "outputs": [],
   "source": [
    "freqs = np.linspace(np.min(vf.network.f), np.max(vf.network.f), 201)\n",
    "n_ports=vf._get_n_ports()\n",
    "fig, ax = mplt.subplots(n_ports, n_ports)\n",
    "fig.set_size_inches(12, 8)\n",
    "for i in range(n_ports):\n",
    "    for j in range(n_ports):\n",
    "        vf.plot_s_db(i, j, freqs=freqs, ax=ax[i][j])\n",
    "fig.tight_layout()\n",
    "mplt.show()"
   ]
  },
  {
   "cell_type": "markdown",
   "metadata": {},
   "source": [
    "We can already see that the response i=0, j=1 shows a deviation to the data of around 10 dB at 1.6 GHz and the deep notch in the data that goes down to -90 dB is actually only a notch down to -65 dB, so we miss the notch by 25 dB!\n",
    "\n",
    "We can also see that the relative error for response 0, 1 is the heighest.\n",
    "\n",
    "Now we run a new fit with inverse_magnited weighting to improve this."
   ]
  },
  {
   "cell_type": "code",
   "execution_count": null,
   "metadata": {},
   "outputs": [],
   "source": [
    "vf.auto_fit(weighting='inverse_magnitude', verbose=True)"
   ]
  },
  {
   "cell_type": "markdown",
   "metadata": {},
   "source": [
    "We can already see that the total relative error decreased a lot compared to the non-weigthed fit and also the relative error for response 0, 1 is now about half.\n",
    "If we now plot the responses, we can see the difference:"
   ]
  },
  {
   "cell_type": "code",
   "execution_count": null,
   "metadata": {},
   "outputs": [],
   "source": [
    "freqs = np.linspace(np.min(vf.network.f), np.max(vf.network.f), 201)\n",
    "n_ports=vf._get_n_ports()\n",
    "fig, ax = mplt.subplots(n_ports, n_ports)\n",
    "fig.set_size_inches(12, 8)\n",
    "for i in range(n_ports):\n",
    "    for j in range(n_ports):\n",
    "        vf.plot_s_db(i, j, freqs=freqs, ax=ax[i][j])\n",
    "fig.tight_layout()\n",
    "mplt.show()"
   ]
  },
  {
   "cell_type": "markdown",
   "metadata": {},
   "source": [
    "We can observe from the plot that the strong deviations in response 0, 1 around 1.6 GHz is now gone completely and the -90 dB notch is exactly represented by the model.\n",
    "\n",
    "We can also observe in the response 1,1 that the fit deviates a bit more than in the non-weigthed fit from the data around 1.4 GHz. This is normal and comes because we gave more weight to the small values. The least squares fit will sacrifice a bit of the accuracy in the large magnitudes in favor of the accuracy in the small magnitudes. \n",
    "\n",
    "This effect of decreased accuracy in large magnitudes in favor of better accuracy for lower magnitudes is actually a trade off, that can be adjusted with a parameter called weighting_accuracy_db. This parameter limits the magnitude weighting to a certain level, for example -40 dB. Every magnitude below this level is not weighted by more than the limit. \n",
    "\n",
    "This is very useful because, for example, we might not actually be interested in fitting the -90 dB notch exactly, but still we might be interested in fitting very exact down to about -40 dB. If we specify this as a parameter, we will get good accuracy down to -40 dB without sacrificing more than neccesary of the accuracy for the large values!\n",
    "\n",
    "Let's try this and see what we can get:"
   ]
  },
  {
   "cell_type": "code",
   "execution_count": null,
   "metadata": {},
   "outputs": [],
   "source": [
    "vf.auto_fit(weighting='inverse_magnitude', weighting_accuracy_db=-40, verbose=True)"
   ]
  },
  {
   "cell_type": "markdown",
   "metadata": {},
   "source": [
    "Now the relative error of the response 0, 1 went up again, which is expected, but let's see how it looks in the plots:"
   ]
  },
  {
   "cell_type": "code",
   "execution_count": null,
   "metadata": {},
   "outputs": [],
   "source": [
    "freqs = np.linspace(np.min(vf.network.f), np.max(vf.network.f), 201)\n",
    "n_ports=vf._get_n_ports()\n",
    "fig, ax = mplt.subplots(n_ports, n_ports)\n",
    "fig.set_size_inches(12, 8)\n",
    "for i in range(n_ports):\n",
    "    for j in range(n_ports):\n",
    "        vf.plot_s_db(i, j, freqs=freqs, ax=ax[i][j])\n",
    "fig.tight_layout()\n",
    "mplt.show()"
   ]
  },
  {
   "cell_type": "markdown",
   "metadata": {},
   "source": [
    "We can now see that we could maintain the good fit around 1.6 GHz in the -55 dB range, but we lost (as expected) the perfect match of the -90 dB notch. But the good thing is that we also got back our good fit for the response 1, 1!\n",
    "\n",
    "Thus, the specification of the weighting_accuracy_db parameter is very important and it should not be set much lower than necessary to achieve the desired accuracy down to a certain magnitude.\n",
    "\n",
    "Setting weighted_accuracy_db=0 is thus equivalent to non-weighted vector fitting.\n",
    "\n",
    "It is also possible to set weighting='uniform', which will weight all samples with 1, thus, not weighting them at all. This is also equivalent to the non-weighted vector fitting. In the future, other weighting schemes can easily be implemented if desired.\n",
    "\n",
    "Moreover, the weights can directly be providid as an argument and thus, arbitrary user defined weights can be used. Details on this can be found in the documentation of the arguments of auto_fit()."
   ]
  }
 ],
 "metadata": {
  "kernelspec": {
   "display_name": "Python 3 (Spyder)",
   "language": "python3",
   "name": "python3"
  },
  "language_info": {
   "codemirror_mode": {
    "name": "ipython",
    "version": 3
   },
   "file_extension": ".py",
   "mimetype": "text/x-python",
   "name": "python",
   "nbconvert_exporter": "python",
   "pygments_lexer": "ipython3",
   "version": "3.12.7"
  }
 },
 "nbformat": 4,
 "nbformat_minor": 4
}
