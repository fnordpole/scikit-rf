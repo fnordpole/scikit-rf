{
 "cells": [
  {
   "cell_type": "markdown",
   "metadata": {},
   "source": [
    "# Ex5: Pole sharing\n",
    "In vanilla vector fitting, all responses share a common set of poles. In the literature, this case is called MIMO fitting.\n",
    "\n",
    "There are applications in which this can lead to problems and it is desirable to use a separate pole set for each response. In the literature, this is called Multi-SISO fitting.\n",
    "\n",
    "It is also possible to go anywhere between those two extreme cases, for example by using a common set of poles for every input j, for example: S1j, S2j, S3j, ... will share one set of poles for every value of the input j. We thus have one pole set per input, which is used for the transfer of this input j to all outputs j=1, 2, 3, ... This is why in the literature this approach is called Multi-SIMO fitting.\n",
    "\n",
    "In general, arbitrary combinations of inputs and outputs can be grouped to use a separate set of poles per group.\n",
    "\n",
    "Right now in vectorFitting, MIMO and multi-SISO is implemented and multi-SIMO is in the work."
   ]
  },
  {
   "cell_type": "markdown",
   "metadata": {},
   "source": [
    "The following example shows how to do a MIMO fit"
   ]
  },
  {
   "cell_type": "code",
   "execution_count": null,
   "metadata": {},
   "outputs": [],
   "source": [
    "import matplotlib.pyplot as mplt\n",
    "import numpy as np\n",
    "\n",
    "import skrf\n",
    "\n",
    "nw = skrf.network.Network('./190ghz_tx_measured.S2P')\n",
    "vf = skrf.VectorFitting(nw)\n",
    "vf.vector_fit(n_poles_init=16, poles_init_type = 'real', pole_sharing='MIMO', verbose=True)"
   ]
  },
  {
   "cell_type": "markdown",
   "metadata": {},
   "source": [
    "We can then plot the fitted responses:"
   ]
  },
  {
   "cell_type": "code",
   "execution_count": null,
   "metadata": {},
   "outputs": [],
   "source": [
    "freqs = np.linspace(np.min(vf.network.f), np.max(vf.network.f), 201)\n",
    "n_ports=vf._get_n_ports()\n",
    "fig, ax = mplt.subplots(n_ports, n_ports)\n",
    "fig.set_size_inches(12, 8)\n",
    "for i in range(n_ports):\n",
    "    for j in range(n_ports):\n",
    "        vf.plot_s_db(i, j, freqs=freqs, ax=ax[i][j])\n",
    "fig.tight_layout()\n",
    "mplt.show()"
   ]
  },
  {
   "cell_type": "markdown",
   "metadata": {},
   "source": [
    "Now we run the fit as a Multi-SISO fit with the same overall model order (16), thus every response gets a model order of 4:"
   ]
  },
  {
   "cell_type": "code",
   "execution_count": null,
   "metadata": {},
   "outputs": [],
   "source": [
    "vf.vector_fit(n_poles_init=4, poles_init_type = 'real', pole_sharing='Multi-SISO', verbose=True)"
   ]
  },
  {
   "cell_type": "markdown",
   "metadata": {},
   "source": [
    "As can be observed from the model summary, both the total absolute and relative errors are worse than in the MIMO fit with the same overall model order. Thus, it is not beneficial to use Multi-SISO for this example data because there are probably shared poles in the system that we are now treating as separate, which is not optimal.\n",
    "\n",
    "Note that this example data is just used to demonstrate the process. If Multi-SISO fitting is advantageous or not depends on your data.\n",
    "\n",
    "We can now plot the responses:"
   ]
  },
  {
   "cell_type": "code",
   "execution_count": null,
   "metadata": {},
   "outputs": [],
   "source": [
    "freqs = np.linspace(np.min(vf.network.f), np.max(vf.network.f), 201)\n",
    "n_ports=vf._get_n_ports()\n",
    "fig, ax = mplt.subplots(n_ports, n_ports)\n",
    "fig.set_size_inches(12, 8)\n",
    "for i in range(n_ports):\n",
    "    for j in range(n_ports):\n",
    "        vf.plot_s_db(i, j, freqs=freqs, ax=ax[i][j])\n",
    "fig.tight_layout()\n",
    "mplt.show()"
   ]
  },
  {
   "cell_type": "markdown",
   "metadata": {},
   "source": [
    "Note: Multi-SIMO is not yet implemented in vectorFitting. Once it is implemented, this example will be extended to show how it works."
   ]
  }
 ],
 "metadata": {
  "kernelspec": {
   "display_name": "Python 3 (Spyder)",
   "language": "python3",
   "name": "python3"
  },
  "language_info": {
   "codemirror_mode": {
    "name": "ipython",
    "version": 3
   },
   "file_extension": ".py",
   "mimetype": "text/x-python",
   "name": "python",
   "nbconvert_exporter": "python",
   "pygments_lexer": "ipython3",
   "version": "3.12.7"
  }
 },
 "nbformat": 4,
 "nbformat_minor": 4
}
